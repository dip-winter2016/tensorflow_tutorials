{
 "cells": [
  {
   "cell_type": "code",
   "execution_count": 1,
   "metadata": {},
   "outputs": [
    {
     "data": {
      "text/plain": [
       "'Simple tutorial for using TensorFlow to compute a linear regression.\\n\\nParag K. Mital, Jan. 2016'"
      ]
     },
     "execution_count": 1,
     "metadata": {},
     "output_type": "execute_result"
    }
   ],
   "source": [
    "\"\"\"Simple tutorial for using TensorFlow to compute a linear regression.\n",
    "\n",
    "Parag K. Mital, Jan. 2016\"\"\""
   ]
  },
  {
   "cell_type": "code",
   "execution_count": 1,
   "metadata": {
    "collapsed": true
   },
   "outputs": [],
   "source": [
    "# %% imports\n",
    "%matplotlib inline\n",
    "import numpy as np\n",
    "import tensorflow as tf\n",
    "import matplotlib.pyplot as plt\n"
   ]
  },
  {
   "cell_type": "code",
   "execution_count": 2,
   "metadata": {},
   "outputs": [
    {
     "name": "stderr",
     "output_type": "stream",
     "text": [
      "/usr/local/lib/python2.7/dist-packages/matplotlib/figure.py:397: UserWarning: matplotlib is currently using a non-GUI backend, so cannot show the figure\n",
      "  \"matplotlib is currently using a non-GUI backend, \"\n"
     ]
    },
    {
     "data": {
      "image/png": "[encoded data removed]",
      "text/plain": [
       "<matplotlib.figure.Figure at 0x7f9684cd9a10>"
      ]
     },
     "metadata": {},
     "output_type": "display_data"
    }
   ],
   "source": [
    "# %% Let's create some toy data\n",
    "plt.ion()\n",
    "n_observations = 100\n",
    "fig, ax = plt.subplots(1, 1)\n",
    "xs = np.linspace(-3, 3, n_observations)\n",
    "ys = np.sin(xs) + np.random.uniform(-0.5, 0.5, n_observations)\n",
    "ax.scatter(xs, ys)\n",
    "fig.show()\n",
    "plt.draw()"
   ]
  },
  {
   "cell_type": "code",
   "execution_count": 3,
   "metadata": {
    "collapsed": true
   },
   "outputs": [],
   "source": [
    "# %% tf.placeholders for the input and output of the network. Placeholders are\n",
    "# variables which we need to fill in when we are ready to compute the graph.\n",
    "X = tf.placeholder(tf.float32)\n",
    "Y = tf.placeholder(tf.float32)"
   ]
  },
  {
   "cell_type": "code",
   "execution_count": 7,
   "metadata": {},
   "outputs": [],
   "source": [
    "# %% We will try to optimize min_(W,b) ||(X*w + b) - y||^2\n",
    "# The `Variable()` constructor requires an initial value for the variable,\n",
    "# which can be a `Tensor` of any type and shape. The initial value defines the\n",
    "# type and shape of the variable. After construction, the type and shape of\n",
    "# the variable are fixed. The value can be changed using one of the assign\n",
    "# methods.\n",
    "W = tf.Variable(tf.random_normal([1]), name='weight')\n",
    "b = tf.Variable(tf.random_normal([1]), name='bias')\n",
    "Y_pred = tf.add(tf.multiply(X, W), b)"
   ]
  },
  {
   "cell_type": "code",
   "execution_count": 9,
   "metadata": {
    "collapsed": true
   },
   "outputs": [],
   "source": [
    "# %% Loss function will measure the distance between our observations\n",
    "# and predictions and average over them.\n",
    "cost = tf.reduce_sum(tf.pow(Y_pred - Y, 2)) / (n_observations - 1)"
   ]
  },
  {
   "cell_type": "code",
   "execution_count": 10,
   "metadata": {
    "collapsed": true
   },
   "outputs": [],
   "source": [
    "# %% if we wanted to add regularization, we could add other terms to the cost,\n",
    "# e.g. ridge regression has a parameter controlling the amount of shrinkage\n",
    "# over the norm of activations. the larger the shrinkage, the more robust\n",
    "# to collinearity.\n",
    "# cost = tf.add(cost, tf.mul(1e-6, tf.global_norm([W])))"
   ]
  },
  {
   "cell_type": "code",
   "execution_count": 11,
   "metadata": {},
   "outputs": [],
   "source": [
    "# %% Use gradient descent to optimize W,b\n",
    "# Performs a single step in the negative gradient\n",
    "learning_rate = 0.01\n",
    "optimizer = tf.train.GradientDescentOptimizer(learning_rate).minimize(cost)"
   ]
  },
  {
   "cell_type": "code",
   "execution_count": null,
   "metadata": {},
   "outputs": [
    {
     "name": "stdout",
     "output_type": "stream",
     "text": [
      "1.84171\n",
      "1.67754\n",
      "1.53161\n",
      "1.40183\n",
      "1.28637\n",
      "1.18358\n",
      "1.09202\n",
      "1.01041\n",
      "0.937631\n",
      "0.872675\n",
      "0.814659\n",
      "0.762801\n",
      "0.716408\n",
      "0.674867\n",
      "0.637637\n",
      "0.604236\n",
      "0.574239\n",
      "0.54727\n",
      "0.522995\n",
      "0.501119\n",
      "0.481379\n",
      "0.463544\n",
      "0.447408\n",
      "0.432788\n",
      "0.419522\n",
      "0.407467\n",
      "0.396495\n",
      "0.386493\n",
      "0.377361\n",
      "0.369009\n",
      "0.361358\n",
      "0.354337\n",
      "0.347883\n",
      "0.341941\n",
      "0.33646\n",
      "0.331396\n",
      "0.32671\n",
      "0.322365\n",
      "0.318331\n",
      "0.314579\n",
      "0.311083\n",
      "0.307822\n",
      "0.304774\n",
      "0.301922\n",
      "0.299249\n",
      "0.296741\n",
      "0.294384\n",
      "0.292166\n",
      "0.290076\n",
      "0.288106\n",
      "0.286245\n",
      "0.284486\n",
      "0.282822\n",
      "0.281245\n",
      "0.279751\n",
      "0.278334\n",
      "0.276988\n",
      "0.275709\n",
      "0.274492\n",
      "0.273335\n",
      "0.272233\n",
      "0.271183\n",
      "0.270182\n",
      "0.269228\n",
      "0.268317\n",
      "0.267448\n",
      "0.266618\n",
      "0.265825\n",
      "0.265067\n",
      "0.264343\n",
      "0.26365\n",
      "0.262987\n",
      "0.262353\n",
      "0.261746\n",
      "0.261165\n",
      "0.260609\n",
      "0.260077\n",
      "0.259567\n",
      "0.259078\n",
      "0.25861\n",
      "0.258161\n",
      "0.257732\n",
      "0.25732\n",
      "0.256925\n",
      "0.256546\n",
      "0.256183\n",
      "0.255836\n",
      "0.255502\n",
      "0.255182\n",
      "0.254875\n",
      "0.254581\n",
      "0.254299\n",
      "0.254029\n",
      "0.253769\n",
      "0.25352\n",
      "0.253282\n",
      "0.253053\n",
      "0.252833\n",
      "0.252622\n",
      "0.25242\n",
      "0.252226\n",
      "0.25204\n",
      "0.251862\n",
      "0.251691\n",
      "0.251527\n",
      "0.251369\n",
      "0.251218\n",
      "0.251073\n",
      "0.250934\n",
      "0.250801\n",
      "0.250673\n",
      "0.25055\n",
      "0.250432\n",
      "0.250319\n",
      "0.250211\n",
      "0.250107\n",
      "0.250008\n",
      "0.249912\n",
      "0.24982\n",
      "0.249732\n",
      "0.249648\n",
      "0.249567\n",
      "0.24949\n",
      "0.249415\n",
      "0.249344\n",
      "0.249275\n",
      "0.24921\n",
      "0.249147\n",
      "0.249086\n",
      "0.249029\n",
      "0.248973\n",
      "0.24892\n",
      "0.248869\n",
      "0.24882\n",
      "0.248773\n",
      "0.248728\n",
      "0.248685\n",
      "0.248644\n",
      "0.248604\n",
      "0.248566\n",
      "0.24853\n",
      "0.248495\n",
      "0.248462\n",
      "0.248429\n",
      "0.248399\n",
      "0.248369\n",
      "0.248341\n",
      "0.248314\n",
      "0.248288\n",
      "0.248263\n",
      "0.24824\n",
      "0.248217\n",
      "0.248195\n",
      "0.248174\n",
      "0.248154\n",
      "0.248135\n",
      "0.248117\n",
      "0.248099\n",
      "0.248082\n",
      "0.248066\n",
      "0.248051\n",
      "0.248036\n",
      "0.248022\n",
      "0.248008\n",
      "0.247995\n",
      "0.247983\n",
      "0.247971\n",
      "0.24796\n",
      "0.247949\n",
      "0.247938\n"
     ]
    }
   ],
   "source": [
    "# %% We create a session to use the graph\n",
    "n_epochs = 1000\n",
    "with tf.Session() as sess:\n",
    "    # Here we tell tensorflow that we want to initialize all\n",
    "    # the variables in the graph so we can use them\n",
    "    sess.run(tf.global_variables_initializer())\n",
    "\n",
    "    # Fit all training data\n",
    "    prev_training_cost = 0.0\n",
    "    for epoch_i in range(n_epochs):\n",
    "        for (x, y) in zip(xs, ys):\n",
    "            sess.run(optimizer, feed_dict={X: x, Y: y})\n",
    "\n",
    "        training_cost = sess.run(\n",
    "            cost, feed_dict={X: xs, Y: ys})\n",
    "        print(training_cost)\n",
    "\n",
    "        if epoch_i % 20 == 0:\n",
    "            ax.plot(xs, Y_pred.eval(\n",
    "                feed_dict={X: xs}, session=sess),\n",
    "                    'k', alpha=epoch_i / n_epochs)\n",
    "            fig.show()\n",
    "            plt.draw()\n",
    "\n",
    "        # Allow the training to quit if we've reached a minimum\n",
    "        if np.abs(prev_training_cost - training_cost) < 0.000001:\n",
    "            break\n",
    "        prev_training_cost = training_cost\n",
    "fig.show()\n"
   ]
  }
 ],
 "metadata": {
  "kernelspec": {
   "display_name": "Python 2",
   "language": "python",
   "name": "python2"
  },
  "language_info": {
   "codemirror_mode": {
    "name": "ipython",
    "version": 2
   },
   "file_extension": ".py",
   "mimetype": "text/x-python",
   "name": "python",
   "nbconvert_exporter": "python",
   "pygments_lexer": "ipython2",
   "version": "2.7.6"
  }
 },
 "nbformat": 4,
 "nbformat_minor": 1
}
